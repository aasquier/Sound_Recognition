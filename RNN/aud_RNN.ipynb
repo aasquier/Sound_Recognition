{
 "cells": [
  {
   "cell_type": "code",
   "execution_count": 1,
   "metadata": {},
   "outputs": [
    {
     "name": "stderr",
     "output_type": "stream",
     "text": [
      "/usr/local/lib/python3.6/site-packages/h5py/__init__.py:36: FutureWarning: Conversion of the second argument of issubdtype from `float` to `np.floating` is deprecated. In future, it will be treated as `np.float64 == np.dtype(float).type`.\n",
      "  from ._conv import register_converters as _register_converters\n",
      "Using TensorFlow backend.\n"
     ]
    }
   ],
   "source": [
    "import sys\n",
    "sys.path.insert(0, '/Users/carsoncook/Dev/CS445/Group_Project_cs445')\n",
    "from extractFeatures import readDataFile\n",
    "from label_map import soundTitlesA as titles\n",
    "import model_helper as mh\n",
    "\n",
    "import numpy as np\n",
    "import keras\n",
    "from keras.datasets import mnist\n",
    "from keras.models import Sequential\n",
    "from keras.layers import Dense, Activation, Dropout\n",
    "from keras.layers.recurrent import SimpleRNN, LSTM, GRU \n",
    "from keras.optimizers import RMSprop\n",
    "\n",
    "#Data files\n",
    "AUDIO_DATA      = \"../data/audioData.csv\"\n",
    "IMAGE_DATA      = \"../data/imageData.csv\"\n",
    "AUDIO_DATA_NORM = \"../data/audioDataNormalized.csv\"\n",
    "IMAGE_DATA_NORM = \"../data/imageDataNormalized.csv\"\n",
    "\n",
    "#Constants\n",
    "FEATURES = 135\n",
    "# INPUT_SHAPE = (FEATURES, 1)\n",
    "ROWS = 1\n",
    "COLS = 135\n",
    "N_CLASSES = 50\n",
    "\n",
    "# Hyper Parameters\n",
    "H_UNITS = 256\n",
    "BATCH_SIZE = 128\n",
    "EPOCHS = 100"
   ]
  },
  {
   "cell_type": "code",
   "execution_count": 2,
   "metadata": {},
   "outputs": [
    {
     "data": {
      "text/plain": [
       "(1500, 1, 135)"
      ]
     },
     "execution_count": 2,
     "metadata": {},
     "output_type": "execute_result"
    }
   ],
   "source": [
    "aud_X_train, aud_y_train, aud_X_test, aud_y_test = readDataFile(AUDIO_DATA)\n",
    "# aud_X_train = aud_X_train.reshape(aud_X_train.shape[0], ROWS, COLS)\n",
    "aud_X_train = aud_X_train.reshape(-1, ROWS, COLS)\n",
    "aud_X_test = aud_X_test.reshape(-1, ROWS, COLS)\n",
    "aud_X_train.shape"
   ]
  },
  {
   "cell_type": "markdown",
   "metadata": {},
   "source": [
    "LSTM RNN"
   ]
  },
  {
   "cell_type": "markdown",
   "metadata": {},
   "source": [
    "One-Hot Encoding"
   ]
  },
  {
   "cell_type": "code",
   "execution_count": 3,
   "metadata": {},
   "outputs": [],
   "source": [
    "aud_Y_train = keras.utils.to_categorical(aud_y_train, N_CLASSES)\n",
    "aud_Y_test = keras.utils.to_categorical(aud_y_test, N_CLASSES)"
   ]
  },
  {
   "cell_type": "code",
   "execution_count": 4,
   "metadata": {},
   "outputs": [
    {
     "name": "stdout",
     "output_type": "stream",
     "text": [
      "Score:  [2.2434593696594236, 0.5220000009536743]\n"
     ]
    }
   ],
   "source": [
    "# RNN LSTM\n",
    "aud_model = mh.build_and_compile(h_units=H_UNITS, inp_shape=(ROWS, COLS), n_classes=N_CLASSES)\n",
    "aud_model.fit(aud_X_train, aud_Y_train,\n",
    "         batch_size=BATCH_SIZE,\n",
    "         epochs=EPOCHS,\n",
    "         verbose=0,\n",
    "         validation_data=(aud_X_test, aud_Y_test))\n",
    "score = aud_model.evaluate(aud_X_test, aud_Y_test, verbose=0)\n",
    "print(\"Score: \", score)"
   ]
  },
  {
   "cell_type": "code",
   "execution_count": 5,
   "metadata": {},
   "outputs": [],
   "source": [
    "import seaborn as sb"
   ]
  },
  {
   "cell_type": "code",
   "execution_count": 6,
   "metadata": {},
   "outputs": [
    {
     "data": {
      "text/plain": [
       "array([49, 11, 12, 29, 16, 21,  9, 31,  6, 22, 31, 11, 48, 22, 28, 27,  5,\n",
       "       27, 20, 46, 11, 40, 16, 28, 40, 37,  0, 28, 24, 42, 16, 11, 40,  5,\n",
       "        7, 49,  1, 16, 30, 29,  8,  6, 26, 40, 47, 47,  4, 44, 18, 18, 17,\n",
       "       11,  2, 19,  1, 23, 47, 37, 45, 19, 45, 10, 25, 15, 25, 26, 25,  8,\n",
       "       49, 17, 20, 37, 23, 47,  9, 33, 19, 47, 23, 17,  6, 11, 33, 42,  2,\n",
       "       10, 10, 19, 10, 13, 14, 36, 27,  4, 12, 13, 29, 35, 27, 22, 18, 24,\n",
       "        4,  8, 20, 19, 17,  0,  9, 14, 12, 39, 32, 39, 47, 38, 27,  2, 30,\n",
       "        4,  7, 26, 40, 20, 47, 37,  9,  9, 36,  5,  3, 15, 13, 16,  9, 18,\n",
       "       45, 32,  8, 45, 39, 25, 15,  2, 12,  4, 24, 39, 21, 16, 25,  4, 19,\n",
       "       29, 12,  9, 33, 44, 19,  0, 27, 27, 42, 47, 18, 10, 26, 14,  2, 22,\n",
       "       14, 25, 39, 20, 39, 35, 34, 29, 30, 26,  9, 19, 41, 33, 43, 39, 21,\n",
       "       17, 39, 29, 16, 48, 39,  8, 14, 43, 27, 37, 10, 34, 11, 16,  9, 22,\n",
       "       15,  0, 30,  4, 11, 31, 24, 25, 48, 24, 39, 48, 33, 22,  2, 18, 11,\n",
       "        9, 29, 47, 49, 28,  2, 15, 18, 25,  3, 25, 19, 32, 18,  3, 28, 10,\n",
       "       43, 25, 29, 26, 41, 26,  0,  8, 22, 10,  0, 18,  6, 11,  7, 27,  8,\n",
       "       35, 24, 27,  4, 33,  8, 35, 18, 38, 41, 47, 28,  4, 44, 25, 43, 48,\n",
       "       23, 38, 45, 11, 21, 47,  3,  1, 25, 30, 12,  9, 34, 39,  2, 33, 48,\n",
       "       28, 40, 45, 32, 17, 30,  1, 38, 49, 18,  0, 34, 38,  0, 14,  2, 27,\n",
       "        6, 48, 36, 21, 20, 29,  2, 20, 22, 47, 49, 37, 17, 10, 45, 24, 43,\n",
       "       46, 47,  3, 16, 15, 42, 33, 21, 18, 13,  3, 12,  4, 48, 48,  6, 48,\n",
       "       48, 16,  8, 13, 20, 24, 22, 37, 39, 29,  8, 35, 29, 38, 18, 13, 35,\n",
       "       48, 17,  7, 47,  4, 36, 29,  3, 29, 20, 10, 12,  4, 25, 27, 42,  3,\n",
       "       13, 29, 17, 32, 18, 45, 45,  8, 30, 12, 10, 22,  2, 10, 40, 31, 36,\n",
       "       24, 32, 17,  6, 20,  6, 28, 14, 37, 35, 11, 30,  7, 46, 15, 47, 19,\n",
       "       48, 16, 17,  9, 22, 25,  8, 18, 18, 24, 12,  9, 39, 48, 46, 10, 18,\n",
       "       11, 16, 33,  1, 38,  1,  6,  8, 12, 20, 34, 25, 12,  5, 48,  6, 14,\n",
       "       11, 16, 30,  2, 37,  0,  6, 31,  6, 14, 41, 23, 34,  5, 27, 11, 17,\n",
       "       35, 19, 10, 17, 49, 26, 22, 39, 27,  1, 37, 48, 19, 43, 41, 32, 22,\n",
       "       30, 22, 35,  5,  5, 25,  2, 19, 40, 21, 16, 48, 10, 16,  3, 45, 20,\n",
       "       40, 16, 29, 49, 19,  6, 21])"
      ]
     },
     "execution_count": 6,
     "metadata": {},
     "output_type": "execute_result"
    }
   ],
   "source": [
    "aud_model.predict_classes(aud_X_test)"
   ]
  },
  {
   "cell_type": "code",
   "execution_count": null,
   "metadata": {},
   "outputs": [],
   "source": []
  },
  {
   "cell_type": "code",
   "execution_count": null,
   "metadata": {},
   "outputs": [],
   "source": []
  },
  {
   "cell_type": "code",
   "execution_count": null,
   "metadata": {},
   "outputs": [],
   "source": []
  },
  {
   "cell_type": "code",
   "execution_count": null,
   "metadata": {},
   "outputs": [],
   "source": []
  },
  {
   "cell_type": "code",
   "execution_count": null,
   "metadata": {},
   "outputs": [],
   "source": []
  }
 ],
 "metadata": {
  "kernelspec": {
   "display_name": "Python 3",
   "language": "python",
   "name": "python3"
  },
  "language_info": {
   "codemirror_mode": {
    "name": "ipython",
    "version": 3
   },
   "file_extension": ".py",
   "mimetype": "text/x-python",
   "name": "python",
   "nbconvert_exporter": "python",
   "pygments_lexer": "ipython3",
   "version": "3.6.5"
  }
 },
 "nbformat": 4,
 "nbformat_minor": 2
}
