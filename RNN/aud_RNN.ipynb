{
 "cells": [
  {
   "cell_type": "code",
   "execution_count": 1,
   "metadata": {},
   "outputs": [
    {
     "name": "stderr",
     "output_type": "stream",
     "text": [
      "/usr/local/lib/python3.6/site-packages/h5py/__init__.py:36: FutureWarning: Conversion of the second argument of issubdtype from `float` to `np.floating` is deprecated. In future, it will be treated as `np.float64 == np.dtype(float).type`.\n",
      "  from ._conv import register_converters as _register_converters\n",
      "Using TensorFlow backend.\n"
     ]
    }
   ],
   "source": [
    "import sys\n",
    "sys.path.insert(0, '/Users/carsoncook/Dev/CS445/Group_Project_cs445')\n",
    "from extractFeatures import readDataFile\n",
    "from label_map import soundTitlesA as titles\n",
    "import model_helper as mh\n",
    "\n",
    "import numpy as np\n",
    "import keras\n",
    "from keras.datasets import mnist\n",
    "from keras.models import Sequential\n",
    "from keras.layers import Dense, Activation, Dropout\n",
    "from keras.layers.recurrent import SimpleRNN, LSTM, GRU \n",
    "from keras.optimizers import RMSprop\n",
    "\n",
    "from sklearn.metrics import accuracy_score\n",
    "from sklearn.metrics import confusion_matrix\n",
    "import seaborn as sn\n",
    "\n",
    "#Data files\n",
    "AUDIO_DATA      = \"../data/audioData.csv\"\n",
    "IMAGE_DATA      = \"../data/imageData.csv\"\n",
    "AUDIO_DATA_NORM = \"../data/audioDataNormalized.csv\"\n",
    "IMAGE_DATA_NORM = \"../data/imageDataNormalized.csv\"\n",
    "\n",
    "#Constants\n",
    "FEATURES = 135\n",
    "# INPUT_SHAPE = (FEATURES, 1)\n",
    "ROWS = 1\n",
    "COLS = 135\n",
    "N_CLASSES = 50\n",
    "\n",
    "# Hyper Parameters\n",
    "L1_UNITS = 1024\n",
    "L2_UNITS = 1024\n",
    "BATCH_SIZE = 128\n",
    "EPOCHS = 100\n",
    "DROPOUT = (.25, .5)\n",
    "\n",
    "np.random.seed(10)"
   ]
  },
  {
   "cell_type": "markdown",
   "metadata": {},
   "source": [
    "LSTM RNN"
   ]
  },
  {
   "cell_type": "markdown",
   "metadata": {},
   "source": [
    "One-Hot Encoding"
   ]
  },
  {
   "cell_type": "code",
   "execution_count": 2,
   "metadata": {},
   "outputs": [],
   "source": [
    "aud_X_train, aud_y_train, aud_X_test, aud_y_test = readDataFile(AUDIO_DATA)\n",
    "aud_Y_train = keras.utils.to_categorical(aud_y_train, N_CLASSES)\n",
    "aud_Y_test = keras.utils.to_categorical(aud_y_test, N_CLASSES)"
   ]
  },
  {
   "cell_type": "code",
   "execution_count": 3,
   "metadata": {},
   "outputs": [],
   "source": [
    "# RNN LSTM\n",
    "def run_model():\n",
    "    aud_X_train = aud_X_train.reshape(-1, ROWS, COLS)\n",
    "    aud_X_test = aud_X_test.reshape(-1, ROWS, COLS)\n",
    "    \n",
    "    aud_model = Sequential()\n",
    "    aud_model.add(LSTM(L1_UNITS, input_shape=(ROWS, COLS),\n",
    "                   return_sequences=True,\n",
    "                   activation='tanh',\n",
    "                   recurrent_activation ='sigmoid',\n",
    "                   unit_forget_bias=True,\n",
    "                  ))\n",
    "    aud_model.add(Dropout(DROPOUT[0]))\n",
    "    # aud_model.add(Dense(L2_UNITS, activation='sigmoid'))\n",
    "    # aud_model.add(Dropout(DROPOUT[1]))\n",
    "    aud_model.add(LSTM(L2_UNITS, input_shape=(ROWS, COLS),\n",
    "                   activation='tanh',\n",
    "                   recurrent_activation ='sigmoid',\n",
    "                   unit_forget_bias=True,\n",
    "                  ))\n",
    "    aud_model.add(Dropout(DROPOUT[1]))\n",
    "    # aud_model.add(Dense(50, activation='sigmoid'))\n",
    "    # aud_model.add(Dropout(DROPOUT[0]))\n",
    "    aud_model.add(Dense(N_CLASSES, activation='softmax'))\n",
    "    aud_model.compile(loss='categorical_crossentropy', optimizer='rmsprop', metrics=['accuracy'])\n",
    "    aud_model.fit(aud_X_train, aud_Y_train,\n",
    "             batch_size=BATCH_SIZE,\n",
    "             epochs=EPOCHS,\n",
    "             verbose=1,\n",
    "             validation_data=(aud_X_test, aud_Y_test))\n",
    "    score = aud_model.evaluate(aud_X_test, aud_Y_test, verbose=0)\n",
    "    print(\"Score: \", score)"
   ]
  },
  {
   "cell_type": "markdown",
   "metadata": {},
   "source": [
    "Experiments"
   ]
  },
  {
   "cell_type": "code",
   "execution_count": 4,
   "metadata": {},
   "outputs": [
    {
     "name": "stdout",
     "output_type": "stream",
     "text": [
      "Units: 128, Shape: (1, 135)\n",
      "\n",
      "Score:  [2.1139405479431153, 0.47200000095367434]\n",
      "Units: 128, Shape: (1, 135)\n",
      "\n",
      "Score:  [2.1001336879730226, 0.4819999990463257]\n",
      "Units: 128, Shape: (1, 135)\n",
      "\n",
      "Score:  [2.0868842124938967, 0.474]\n",
      "Units: 128, Shape: (1, 135)\n",
      "\n",
      "Score:  [2.043848085403442, 0.48]\n",
      "Units: 128, Shape: (1, 135)\n",
      "\n",
      "Score:  [1.9883444690704346, 0.47600000047683716]\n",
      "Units: 128, Shape: (3, 45)\n",
      "\n",
      "Score:  [2.5332045249938964, 0.47200000047683716]\n",
      "Units: 128, Shape: (3, 45)\n",
      "\n",
      "Score:  [2.579077726364136, 0.44]\n",
      "Units: 128, Shape: (3, 45)\n",
      "\n",
      "Score:  [2.4040822868347167, 0.45]\n",
      "Units: 128, Shape: (3, 45)\n",
      "\n",
      "Score:  [2.6576786098480225, 0.456]\n",
      "Units: 128, Shape: (3, 45)\n",
      "\n",
      "Score:  [2.585154588699341, 0.4400000004768372]\n",
      "Units: 128, Shape: (5, 27)\n",
      "\n",
      "Score:  [2.7224172916412352, 0.44799999952316283]\n",
      "Units: 128, Shape: (5, 27)\n",
      "\n",
      "Score:  [2.9278279304504395, 0.4439999995231628]\n",
      "Units: 128, Shape: (5, 27)\n",
      "\n",
      "Score:  [2.7030404262542724, 0.44800000023841857]\n",
      "Units: 128, Shape: (5, 27)\n",
      "\n",
      "Score:  [2.6030036611557006, 0.448]\n",
      "Units: 128, Shape: (5, 27)\n",
      "\n",
      "Score:  [2.70345467376709, 0.452]\n",
      "Units: 256, Shape: (1, 135)\n",
      "\n",
      "Score:  [2.2358453121185304, 0.5060000009536744]\n",
      "Units: 256, Shape: (1, 135)\n",
      "\n",
      "Score:  [2.2468125095367433, 0.5100000009536744]\n",
      "Units: 256, Shape: (1, 135)\n",
      "\n",
      "Score:  [2.3582010307312014, 0.5120000004768371]\n",
      "Units: 256, Shape: (1, 135)\n",
      "\n",
      "Score:  [2.195756504058838, 0.5380000004768372]\n",
      "Units: 256, Shape: (1, 135)\n",
      "\n",
      "Score:  [2.2113422298431398, 0.5220000009536743]\n",
      "Units: 256, Shape: (3, 45)\n",
      "\n",
      "Score:  [2.8295072593688966, 0.484]\n",
      "Units: 256, Shape: (3, 45)\n",
      "\n",
      "Score:  [2.8730282859802245, 0.5220000004768371]\n",
      "Units: 256, Shape: (3, 45)\n",
      "\n",
      "Score:  [2.9960065422058104, 0.492]\n",
      "Units: 256, Shape: (3, 45)\n",
      "\n",
      "Score:  [2.8948713703155518, 0.48999999952316287]\n",
      "Units: 256, Shape: (3, 45)\n",
      "\n",
      "Score:  [2.8672010307312013, 0.48000000047683716]\n",
      "Units: 256, Shape: (5, 27)\n",
      "\n",
      "Score:  [2.897181908607483, 0.5040000009536744]\n",
      "Units: 256, Shape: (5, 27)\n",
      "\n",
      "Score:  [2.8985797901153565, 0.48000000095367434]\n",
      "Units: 256, Shape: (5, 27)\n",
      "\n",
      "Score:  [2.992456687927246, 0.5080000004768371]\n",
      "Units: 256, Shape: (5, 27)\n",
      "\n",
      "Score:  [2.905819275856018, 0.5120000004768371]\n",
      "Units: 256, Shape: (5, 27)\n",
      "\n",
      "Score:  [2.7375297107696532, 0.5100000009536744]\n",
      "Units: 512, Shape: (1, 135)\n",
      "\n",
      "Score:  [2.600585512161255, 0.546]\n",
      "Units: 512, Shape: (1, 135)\n",
      "\n",
      "Score:  [2.426770029067993, 0.5640000009536743]\n",
      "Units: 512, Shape: (1, 135)\n",
      "\n",
      "Score:  [2.606207271575928, 0.5179999995231629]\n",
      "Units: 512, Shape: (1, 135)\n",
      "\n",
      "Score:  [2.5374956760406495, 0.554]\n",
      "Units: 512, Shape: (1, 135)\n",
      "\n",
      "Score:  [2.7689368381500246, 0.5139999995231629]\n",
      "Units: 512, Shape: (3, 45)\n",
      "\n",
      "Score:  [3.12120112991333, 0.506]\n",
      "Units: 512, Shape: (3, 45)\n",
      "\n",
      "Score:  [2.8718703117370605, 0.5300000004768372]\n",
      "Units: 512, Shape: (3, 45)\n",
      "\n",
      "Score:  [3.1855773735046387, 0.5260000004768371]\n",
      "Units: 512, Shape: (3, 45)\n",
      "\n",
      "Score:  [3.15773468208313, 0.5140000004768371]\n",
      "Units: 512, Shape: (3, 45)\n",
      "\n",
      "Score:  [3.0789549407958985, 0.5520000009536743]\n",
      "Units: 512, Shape: (5, 27)\n",
      "\n",
      "Score:  [3.283363397598267, 0.4980000004768372]\n",
      "Units: 512, Shape: (5, 27)\n",
      "\n",
      "Score:  [3.243034704208374, 0.5160000009536743]\n",
      "Units: 512, Shape: (5, 27)\n",
      "\n",
      "Score:  [3.3991524887084963, 0.5260000004768371]\n",
      "Units: 512, Shape: (5, 27)\n",
      "\n",
      "Score:  [3.1581736907958984, 0.5100000004768371]\n",
      "Units: 512, Shape: (5, 27)\n",
      "\n",
      "Score:  [3.0494480094909666, 0.5300000009536743]\n"
     ]
    }
   ],
   "source": [
    "units = [128, 256, 512]\n",
    "shapes = [(1, 135), (3, 45), (5, 27)]\n",
    "\n",
    "for i, u in enumerate(units):\n",
    "    for j, s in enumerate(shapes):\n",
    "        accs = np.zeros(shape=(5,), dtype='float64')\n",
    "        for i in range(5):\n",
    "            print('Units: {}, Shape: {}\\n'.format(u, s))\n",
    "            aud_X_train = aud_X_train.reshape(-1, s[0], s[1])\n",
    "            aud_X_test = aud_X_test.reshape(-1, s[0], s[1])\n",
    "\n",
    "            aud_model = Sequential()\n",
    "            aud_model.add(LSTM(u, input_shape=s,\n",
    "                           return_sequences=True,\n",
    "                           activation='tanh',\n",
    "                           recurrent_activation ='sigmoid',\n",
    "                           unit_forget_bias=True,\n",
    "                          ))\n",
    "            aud_model.add(Dropout(DROPOUT[0]))\n",
    "            aud_model.add(LSTM(u, input_shape=s,\n",
    "                           activation='tanh',\n",
    "                           recurrent_activation ='sigmoid',\n",
    "                           unit_forget_bias=True,\n",
    "                          ))\n",
    "            aud_model.add(Dropout(DROPOUT[1]))\n",
    "            aud_model.add(Dense(N_CLASSES, activation='softmax'))\n",
    "            aud_model.compile(loss='categorical_crossentropy', optimizer='rmsprop', metrics=['accuracy'])\n",
    "            aud_model.fit(aud_X_train, aud_Y_train,\n",
    "                     batch_size=BATCH_SIZE,\n",
    "                     epochs=EPOCHS,\n",
    "                     verbose=0,\n",
    "                     validation_data=(aud_X_test, aud_Y_test))\n",
    "            score = aud_model.evaluate(aud_X_test, aud_Y_test, verbose=0)\n",
    "            print('Score: ', score)\n",
    "            acc = score[1]\n",
    "            with open('metrics.txt', 'a') as outfile:\n",
    "                outfile.write('Units: {}, Shape: {}, Accuracy: {}\\n'.format(u, s, acc))\n",
    "            accs[i] = acc\n",
    "        with open('metrics.txt', 'a') as outfile:\n",
    "            outfile.write('Average Acc for [Units: {}, Shape: {}]: {}\\n'.format(u, s, accs.mean()))\n",
    "        accs[:] = 0"
   ]
  },
  {
   "cell_type": "code",
   "execution_count": 1,
   "metadata": {},
   "outputs": [],
   "source": [
    "import numpy as np"
   ]
  },
  {
   "cell_type": "code",
   "execution_count": 19,
   "metadata": {},
   "outputs": [
    {
     "data": {
      "text/plain": [
       "array([[1, 2, 3],\n",
       "       [1, 2, 3]])"
      ]
     },
     "execution_count": 19,
     "metadata": {},
     "output_type": "execute_result"
    }
   ],
   "source": [
    "a = np.array([[1, 2, 3], [1, 2, 3]])\n",
    "a"
   ]
  },
  {
   "cell_type": "code",
   "execution_count": 24,
   "metadata": {},
   "outputs": [
    {
     "data": {
      "text/plain": [
       "array([1., 2., 3.])"
      ]
     },
     "execution_count": 24,
     "metadata": {},
     "output_type": "execute_result"
    }
   ],
   "source": [
    "avgs = a.mean(axis=0)\n",
    "avgs"
   ]
  }
 ],
 "metadata": {
  "kernelspec": {
   "display_name": "Python 3",
   "language": "python",
   "name": "python3"
  },
  "language_info": {
   "codemirror_mode": {
    "name": "ipython",
    "version": 3
   },
   "file_extension": ".py",
   "mimetype": "text/x-python",
   "name": "python",
   "nbconvert_exporter": "python",
   "pygments_lexer": "ipython3",
   "version": "3.6.5"
  }
 },
 "nbformat": 4,
 "nbformat_minor": 2
}
