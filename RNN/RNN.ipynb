{
 "cells": [
  {
   "cell_type": "code",
   "execution_count": 1,
   "metadata": {},
   "outputs": [
    {
     "name": "stderr",
     "output_type": "stream",
     "text": [
      "/usr/local/lib/python3.6/site-packages/h5py/__init__.py:36: FutureWarning: Conversion of the second argument of issubdtype from `float` to `np.floating` is deprecated. In future, it will be treated as `np.float64 == np.dtype(float).type`.\n",
      "  from ._conv import register_converters as _register_converters\n",
      "Using TensorFlow backend.\n"
     ]
    }
   ],
   "source": [
    "import sys\n",
    "sys.path.insert(0, '/Users/carsoncook/Dev/CS445/Group_Project_cs445')\n",
    "from extractFeatures import readDataFile\n",
    "\n",
    "import numpy as np\n",
    "import keras\n",
    "from keras.datasets import mnist\n",
    "# from keras.models import Sequential\n",
    "# from keras.layers import Dense, Activation, Dropout\n",
    "# from keras.layers import LSTM\n",
    "from keras.models import Sequential\n",
    "from keras.layers import Dense, Activation, Dropout\n",
    "from keras.layers.recurrent import SimpleRNN, LSTM, GRU \n",
    "from keras.optimizers import RMSprop"
   ]
  },
  {
   "cell_type": "code",
   "execution_count": 2,
   "metadata": {},
   "outputs": [],
   "source": [
    "#Data files\n",
    "AUDIO_DATA      = \"../data/audioData.csv\"\n",
    "IMAGE_DATA      = \"../data/imageData.csv\"\n",
    "AUDIO_DATA_NORM = \"../data/audioDataNormalized.csv\"\n",
    "IMAGE_DATA_NORM = \"../data/imageDataNormalized.csv\"\n",
    "\n",
    "#Constants\n",
    "FEATURES = 135\n",
    "# INPUT_SHAPE = (FEATURES, 1)\n",
    "ROWS = 3\n",
    "COLS = 45\n",
    "N_CLASSES = 50\n",
    "\n",
    "# Hyper Parameters\n",
    "N_UNITS = 128\n",
    "BATCH_SIZE = 128\n",
    "EPOCHS = 100\n",
    "DROP_OUT = (0.10, 0.20)"
   ]
  },
  {
   "cell_type": "code",
   "execution_count": 3,
   "metadata": {},
   "outputs": [],
   "source": [
    "aud_X_train, aud_y_train, aud_X_test, aud_y_test = readDataFile(AUDIO_DATA)"
   ]
  },
  {
   "cell_type": "code",
   "execution_count": 4,
   "metadata": {},
   "outputs": [
    {
     "data": {
      "text/plain": [
       "(1500, 3, 45)"
      ]
     },
     "execution_count": 4,
     "metadata": {},
     "output_type": "execute_result"
    }
   ],
   "source": [
    "# aud_X_train = aud_X_train.reshape(aud_X_train.shape[0], ROWS, COLS)\n",
    "aud_X_train = aud_X_train.reshape(-1, ROWS, COLS)\n",
    "aud_X_test = aud_X_test.reshape(-1, ROWS, COLS)\n",
    "aud_X_train.shape"
   ]
  },
  {
   "cell_type": "markdown",
   "metadata": {},
   "source": [
    "LSTM RNN"
   ]
  },
  {
   "cell_type": "markdown",
   "metadata": {},
   "source": [
    "One-Hot Encoding"
   ]
  },
  {
   "cell_type": "code",
   "execution_count": 5,
   "metadata": {},
   "outputs": [],
   "source": [
    "aud_Y_train = keras.utils.to_categorical(aud_y_train, N_CLASSES)\n",
    "aud_Y_test = keras.utils.to_categorical(aud_y_test, N_CLASSES)"
   ]
  },
  {
   "cell_type": "code",
   "execution_count": 6,
   "metadata": {},
   "outputs": [],
   "source": [
    "model = Sequential()\n",
    "\n",
    "# RNN LSTM\n",
    "model.add(LSTM(N_UNITS, input_shape=(ROWS, COLS)))\n",
    "# model.add(SimpleRNN(N_UNITS, input_shape=(ROWS, COLS)))\n",
    "model.add(Dropout(DROP_OUT[0]))\n",
    "model.add(Dense(N_CLASSES, activation='softmax'))\n",
    "# model.add(Dropout(DROP_OUT[1]))\n",
    "model.compile(loss='categorical_crossentropy',  optimizer='adam', metrics=['accuracy'])\n",
    "# model.compile(loss='categorical_crossentropy', optimizer='rmsprop', metrics=['accuracy'])\n",
    "# model.compile(loss=keras.losses.categorical_crossentropy, optimizer=keras.optimizers.Adadelta(), metrics=['accuracy'])"
   ]
  },
  {
   "cell_type": "code",
   "execution_count": 7,
   "metadata": {},
   "outputs": [
    {
     "name": "stdout",
     "output_type": "stream",
     "text": [
      "Train on 1500 samples, validate on 500 samples\n",
      "Epoch 1/100\n",
      "1500/1500 [==============================] - 1s 801us/step - loss: 3.8954 - acc: 0.0347 - val_loss: 3.8416 - val_acc: 0.0640\n",
      "Epoch 2/100\n",
      "1500/1500 [==============================] - 0s 126us/step - loss: 3.7388 - acc: 0.1240 - val_loss: 3.7368 - val_acc: 0.0900\n",
      "Epoch 3/100\n",
      "1500/1500 [==============================] - 0s 114us/step - loss: 3.5798 - acc: 0.1933 - val_loss: 3.5873 - val_acc: 0.1160\n",
      "Epoch 4/100\n",
      "1500/1500 [==============================] - 0s 113us/step - loss: 3.3682 - acc: 0.2067 - val_loss: 3.4146 - val_acc: 0.1440\n",
      "Epoch 5/100\n",
      "1500/1500 [==============================] - 0s 114us/step - loss: 3.1150 - acc: 0.2600 - val_loss: 3.2271 - val_acc: 0.1680\n",
      "Epoch 6/100\n",
      "1500/1500 [==============================] - 0s 114us/step - loss: 2.8289 - acc: 0.3007 - val_loss: 3.0332 - val_acc: 0.1880\n",
      "Epoch 7/100\n",
      "1500/1500 [==============================] - 0s 123us/step - loss: 2.5484 - acc: 0.3660 - val_loss: 2.8672 - val_acc: 0.2380\n",
      "Epoch 8/100\n",
      "1500/1500 [==============================] - 0s 164us/step - loss: 2.2992 - acc: 0.4127 - val_loss: 2.7531 - val_acc: 0.2560\n",
      "Epoch 9/100\n",
      "1500/1500 [==============================] - 0s 168us/step - loss: 2.1082 - acc: 0.4667 - val_loss: 2.6555 - val_acc: 0.2860\n",
      "Epoch 10/100\n",
      "1500/1500 [==============================] - 0s 177us/step - loss: 1.9450 - acc: 0.5067 - val_loss: 2.5937 - val_acc: 0.2980\n",
      "Epoch 11/100\n",
      "1500/1500 [==============================] - 0s 150us/step - loss: 1.7998 - acc: 0.5580 - val_loss: 2.5516 - val_acc: 0.3160\n",
      "Epoch 12/100\n",
      "1500/1500 [==============================] - 0s 147us/step - loss: 1.6684 - acc: 0.6013 - val_loss: 2.5044 - val_acc: 0.3100\n",
      "Epoch 13/100\n",
      "1500/1500 [==============================] - 0s 118us/step - loss: 1.5651 - acc: 0.6220 - val_loss: 2.4724 - val_acc: 0.3360\n",
      "Epoch 14/100\n",
      "1500/1500 [==============================] - 0s 119us/step - loss: 1.4643 - acc: 0.6460 - val_loss: 2.4531 - val_acc: 0.3280\n",
      "Epoch 15/100\n",
      "1500/1500 [==============================] - 0s 119us/step - loss: 1.3725 - acc: 0.6800 - val_loss: 2.4206 - val_acc: 0.3320\n",
      "Epoch 16/100\n",
      "1500/1500 [==============================] - 0s 121us/step - loss: 1.2936 - acc: 0.7100 - val_loss: 2.4130 - val_acc: 0.3460\n",
      "Epoch 17/100\n",
      "1500/1500 [==============================] - 0s 128us/step - loss: 1.2100 - acc: 0.7280 - val_loss: 2.3965 - val_acc: 0.3460\n",
      "Epoch 18/100\n",
      "1500/1500 [==============================] - 0s 144us/step - loss: 1.1479 - acc: 0.7360 - val_loss: 2.3769 - val_acc: 0.3580\n",
      "Epoch 19/100\n",
      "1500/1500 [==============================] - 0s 142us/step - loss: 1.0626 - acc: 0.7667 - val_loss: 2.3719 - val_acc: 0.3360\n",
      "Epoch 20/100\n",
      "1500/1500 [==============================] - 0s 190us/step - loss: 1.0129 - acc: 0.7873 - val_loss: 2.3650 - val_acc: 0.3460\n",
      "Epoch 21/100\n",
      "1500/1500 [==============================] - 0s 182us/step - loss: 0.9480 - acc: 0.7907 - val_loss: 2.3417 - val_acc: 0.3660\n",
      "Epoch 22/100\n",
      "1500/1500 [==============================] - 0s 134us/step - loss: 0.9031 - acc: 0.8067 - val_loss: 2.3647 - val_acc: 0.3560\n",
      "Epoch 23/100\n",
      "1500/1500 [==============================] - 0s 127us/step - loss: 0.8545 - acc: 0.8180 - val_loss: 2.3548 - val_acc: 0.3640\n",
      "Epoch 24/100\n",
      "1500/1500 [==============================] - 0s 119us/step - loss: 0.8046 - acc: 0.8380 - val_loss: 2.3525 - val_acc: 0.3640\n",
      "Epoch 25/100\n",
      "1500/1500 [==============================] - 0s 121us/step - loss: 0.7662 - acc: 0.8500 - val_loss: 2.3508 - val_acc: 0.3560\n",
      "Epoch 26/100\n",
      "1500/1500 [==============================] - 0s 121us/step - loss: 0.7230 - acc: 0.8613 - val_loss: 2.3591 - val_acc: 0.3660\n",
      "Epoch 27/100\n",
      "1500/1500 [==============================] - 0s 135us/step - loss: 0.6815 - acc: 0.8680 - val_loss: 2.3541 - val_acc: 0.3760\n",
      "Epoch 28/100\n",
      "1500/1500 [==============================] - 0s 135us/step - loss: 0.6482 - acc: 0.8800 - val_loss: 2.3603 - val_acc: 0.3820\n",
      "Epoch 29/100\n",
      "1500/1500 [==============================] - 0s 125us/step - loss: 0.6123 - acc: 0.8820 - val_loss: 2.3466 - val_acc: 0.3820\n",
      "Epoch 30/100\n",
      "1500/1500 [==============================] - 0s 120us/step - loss: 0.5731 - acc: 0.8933 - val_loss: 2.3416 - val_acc: 0.3880\n",
      "Epoch 31/100\n",
      "1500/1500 [==============================] - 0s 119us/step - loss: 0.5480 - acc: 0.9033 - val_loss: 2.3493 - val_acc: 0.3840\n",
      "Epoch 32/100\n",
      "1500/1500 [==============================] - 0s 129us/step - loss: 0.5147 - acc: 0.9153 - val_loss: 2.3666 - val_acc: 0.3920\n",
      "Epoch 33/100\n",
      "1500/1500 [==============================] - 0s 123us/step - loss: 0.4931 - acc: 0.9187 - val_loss: 2.3589 - val_acc: 0.3940\n",
      "Epoch 34/100\n",
      "1500/1500 [==============================] - 0s 132us/step - loss: 0.4566 - acc: 0.9247 - val_loss: 2.3553 - val_acc: 0.3900\n",
      "Epoch 35/100\n",
      "1500/1500 [==============================] - 0s 128us/step - loss: 0.4535 - acc: 0.9267 - val_loss: 2.3780 - val_acc: 0.4020\n",
      "Epoch 36/100\n",
      "1500/1500 [==============================] - 0s 123us/step - loss: 0.4288 - acc: 0.9333 - val_loss: 2.3562 - val_acc: 0.4080\n",
      "Epoch 37/100\n",
      "1500/1500 [==============================] - 0s 124us/step - loss: 0.3998 - acc: 0.9420 - val_loss: 2.3778 - val_acc: 0.3980\n",
      "Epoch 38/100\n",
      "1500/1500 [==============================] - 0s 116us/step - loss: 0.3902 - acc: 0.9407 - val_loss: 2.3903 - val_acc: 0.4040\n",
      "Epoch 39/100\n",
      "1500/1500 [==============================] - 0s 133us/step - loss: 0.3681 - acc: 0.9480 - val_loss: 2.3912 - val_acc: 0.4020\n",
      "Epoch 40/100\n",
      "1500/1500 [==============================] - 0s 133us/step - loss: 0.3417 - acc: 0.9533 - val_loss: 2.3985 - val_acc: 0.3960\n",
      "Epoch 41/100\n",
      "1500/1500 [==============================] - 0s 127us/step - loss: 0.3394 - acc: 0.9480 - val_loss: 2.4163 - val_acc: 0.4100\n",
      "Epoch 42/100\n",
      "1500/1500 [==============================] - 0s 134us/step - loss: 0.3222 - acc: 0.9540 - val_loss: 2.4069 - val_acc: 0.4140\n",
      "Epoch 43/100\n",
      "1500/1500 [==============================] - 0s 126us/step - loss: 0.3126 - acc: 0.9533 - val_loss: 2.4342 - val_acc: 0.3940\n",
      "Epoch 44/100\n",
      "1500/1500 [==============================] - 0s 128us/step - loss: 0.2878 - acc: 0.9607 - val_loss: 2.4310 - val_acc: 0.4220\n",
      "Epoch 45/100\n",
      "1500/1500 [==============================] - 0s 133us/step - loss: 0.2848 - acc: 0.9647 - val_loss: 2.4099 - val_acc: 0.4120\n",
      "Epoch 46/100\n",
      "1500/1500 [==============================] - 0s 127us/step - loss: 0.2668 - acc: 0.9653 - val_loss: 2.4297 - val_acc: 0.4160\n",
      "Epoch 47/100\n",
      "1500/1500 [==============================] - 0s 124us/step - loss: 0.2520 - acc: 0.9660 - val_loss: 2.4540 - val_acc: 0.4100\n",
      "Epoch 48/100\n",
      "1500/1500 [==============================] - 0s 125us/step - loss: 0.2502 - acc: 0.9680 - val_loss: 2.4444 - val_acc: 0.4060\n",
      "Epoch 49/100\n",
      "1500/1500 [==============================] - 0s 120us/step - loss: 0.2348 - acc: 0.9727 - val_loss: 2.4509 - val_acc: 0.4100\n",
      "Epoch 50/100\n",
      "1500/1500 [==============================] - 0s 126us/step - loss: 0.2302 - acc: 0.9660 - val_loss: 2.4499 - val_acc: 0.4160\n",
      "Epoch 51/100\n",
      "1500/1500 [==============================] - 0s 127us/step - loss: 0.2117 - acc: 0.9727 - val_loss: 2.4633 - val_acc: 0.4020\n",
      "Epoch 52/100\n",
      "1500/1500 [==============================] - 0s 125us/step - loss: 0.2096 - acc: 0.9760 - val_loss: 2.4508 - val_acc: 0.4160\n",
      "Epoch 53/100\n",
      "1500/1500 [==============================] - 0s 160us/step - loss: 0.1985 - acc: 0.9700 - val_loss: 2.4623 - val_acc: 0.4040\n",
      "Epoch 54/100\n",
      "1500/1500 [==============================] - 0s 133us/step - loss: 0.1975 - acc: 0.9720 - val_loss: 2.4779 - val_acc: 0.4000\n",
      "Epoch 55/100\n",
      "1500/1500 [==============================] - 0s 130us/step - loss: 0.1872 - acc: 0.9753 - val_loss: 2.4847 - val_acc: 0.4100\n",
      "Epoch 56/100\n",
      "1500/1500 [==============================] - 0s 128us/step - loss: 0.1836 - acc: 0.9767 - val_loss: 2.4839 - val_acc: 0.4100\n",
      "Epoch 57/100\n",
      "1500/1500 [==============================] - 0s 127us/step - loss: 0.1737 - acc: 0.9767 - val_loss: 2.5056 - val_acc: 0.4180\n",
      "Epoch 58/100\n",
      "1500/1500 [==============================] - 0s 128us/step - loss: 0.1651 - acc: 0.9807 - val_loss: 2.5184 - val_acc: 0.4120\n",
      "Epoch 59/100\n",
      "1500/1500 [==============================] - 0s 129us/step - loss: 0.1670 - acc: 0.9767 - val_loss: 2.5174 - val_acc: 0.4200\n",
      "Epoch 60/100\n",
      "1500/1500 [==============================] - 0s 137us/step - loss: 0.1525 - acc: 0.9840 - val_loss: 2.5442 - val_acc: 0.4120\n",
      "Epoch 61/100\n",
      "1500/1500 [==============================] - 0s 136us/step - loss: 0.1464 - acc: 0.9840 - val_loss: 2.5459 - val_acc: 0.4180\n",
      "Epoch 62/100\n",
      "1500/1500 [==============================] - 0s 128us/step - loss: 0.1452 - acc: 0.9827 - val_loss: 2.5397 - val_acc: 0.4180\n",
      "Epoch 63/100\n",
      "1500/1500 [==============================] - 0s 139us/step - loss: 0.1373 - acc: 0.9833 - val_loss: 2.5479 - val_acc: 0.4140\n",
      "Epoch 64/100\n",
      "1500/1500 [==============================] - 0s 134us/step - loss: 0.1352 - acc: 0.9833 - val_loss: 2.5419 - val_acc: 0.4160\n",
      "Epoch 65/100\n",
      "1500/1500 [==============================] - 0s 129us/step - loss: 0.1294 - acc: 0.9827 - val_loss: 2.5454 - val_acc: 0.4160\n",
      "Epoch 66/100\n",
      "1500/1500 [==============================] - 0s 133us/step - loss: 0.1243 - acc: 0.9867 - val_loss: 2.5638 - val_acc: 0.4120\n",
      "Epoch 67/100\n",
      "1500/1500 [==============================] - 0s 131us/step - loss: 0.1186 - acc: 0.9840 - val_loss: 2.5815 - val_acc: 0.4180\n",
      "Epoch 68/100\n",
      "1500/1500 [==============================] - 0s 128us/step - loss: 0.1163 - acc: 0.9873 - val_loss: 2.5993 - val_acc: 0.4240\n",
      "Epoch 69/100\n",
      "1500/1500 [==============================] - 0s 140us/step - loss: 0.1170 - acc: 0.9833 - val_loss: 2.5903 - val_acc: 0.4160\n",
      "Epoch 70/100\n",
      "1500/1500 [==============================] - 0s 148us/step - loss: 0.1082 - acc: 0.9893 - val_loss: 2.5689 - val_acc: 0.4180\n",
      "Epoch 71/100\n",
      "1500/1500 [==============================] - 0s 129us/step - loss: 0.1058 - acc: 0.9847 - val_loss: 2.6051 - val_acc: 0.4160\n",
      "Epoch 72/100\n",
      "1500/1500 [==============================] - 0s 143us/step - loss: 0.1049 - acc: 0.9860 - val_loss: 2.6205 - val_acc: 0.4200\n",
      "Epoch 73/100\n",
      "1500/1500 [==============================] - 0s 124us/step - loss: 0.0985 - acc: 0.9887 - val_loss: 2.6010 - val_acc: 0.4140\n",
      "Epoch 74/100\n",
      "1500/1500 [==============================] - 0s 124us/step - loss: 0.0924 - acc: 0.9907 - val_loss: 2.6125 - val_acc: 0.4180\n",
      "Epoch 75/100\n",
      "1500/1500 [==============================] - 0s 131us/step - loss: 0.0920 - acc: 0.9900 - val_loss: 2.6364 - val_acc: 0.4200\n",
      "Epoch 76/100\n",
      "1500/1500 [==============================] - 0s 136us/step - loss: 0.0947 - acc: 0.9880 - val_loss: 2.6253 - val_acc: 0.4060\n",
      "Epoch 77/100\n",
      "1500/1500 [==============================] - 0s 131us/step - loss: 0.0888 - acc: 0.9900 - val_loss: 2.6320 - val_acc: 0.4180\n",
      "Epoch 78/100\n",
      "1500/1500 [==============================] - 0s 129us/step - loss: 0.0815 - acc: 0.9920 - val_loss: 2.6304 - val_acc: 0.4160\n",
      "Epoch 79/100\n",
      "1500/1500 [==============================] - 0s 142us/step - loss: 0.0815 - acc: 0.9907 - val_loss: 2.6518 - val_acc: 0.4180\n",
      "Epoch 80/100\n",
      "1500/1500 [==============================] - 0s 134us/step - loss: 0.0789 - acc: 0.9920 - val_loss: 2.6457 - val_acc: 0.4120\n",
      "Epoch 81/100\n",
      "1500/1500 [==============================] - 0s 129us/step - loss: 0.0780 - acc: 0.9900 - val_loss: 2.6582 - val_acc: 0.4200\n",
      "Epoch 82/100\n",
      "1500/1500 [==============================] - 0s 141us/step - loss: 0.0768 - acc: 0.9913 - val_loss: 2.6649 - val_acc: 0.4180\n",
      "Epoch 83/100\n",
      "1500/1500 [==============================] - 0s 132us/step - loss: 0.0761 - acc: 0.9927 - val_loss: 2.6643 - val_acc: 0.4300\n",
      "Epoch 84/100\n",
      "1500/1500 [==============================] - 0s 142us/step - loss: 0.0714 - acc: 0.9900 - val_loss: 2.6780 - val_acc: 0.4120\n",
      "Epoch 85/100\n",
      "1500/1500 [==============================] - 0s 132us/step - loss: 0.0696 - acc: 0.9900 - val_loss: 2.6972 - val_acc: 0.4060\n",
      "Epoch 86/100\n",
      "1500/1500 [==============================] - 0s 150us/step - loss: 0.0667 - acc: 0.9953 - val_loss: 2.6884 - val_acc: 0.4120\n",
      "Epoch 87/100\n",
      "1500/1500 [==============================] - 0s 165us/step - loss: 0.0668 - acc: 0.9920 - val_loss: 2.7199 - val_acc: 0.4180\n",
      "Epoch 88/100\n",
      "1500/1500 [==============================] - 0s 229us/step - loss: 0.0634 - acc: 0.9933 - val_loss: 2.6976 - val_acc: 0.4160\n",
      "Epoch 89/100\n",
      "1500/1500 [==============================] - 0s 189us/step - loss: 0.0643 - acc: 0.9960 - val_loss: 2.7167 - val_acc: 0.4180\n",
      "Epoch 90/100\n",
      "1500/1500 [==============================] - 0s 162us/step - loss: 0.0629 - acc: 0.9920 - val_loss: 2.6952 - val_acc: 0.4180\n",
      "Epoch 91/100\n",
      "1500/1500 [==============================] - 0s 156us/step - loss: 0.0578 - acc: 0.9960 - val_loss: 2.7159 - val_acc: 0.4200\n",
      "Epoch 92/100\n",
      "1500/1500 [==============================] - 0s 162us/step - loss: 0.0536 - acc: 0.9973 - val_loss: 2.7283 - val_acc: 0.4120\n",
      "Epoch 93/100\n",
      "1500/1500 [==============================] - 0s 141us/step - loss: 0.0508 - acc: 0.9973 - val_loss: 2.7297 - val_acc: 0.4160\n",
      "Epoch 94/100\n",
      "1500/1500 [==============================] - 0s 142us/step - loss: 0.0506 - acc: 0.9973 - val_loss: 2.7270 - val_acc: 0.4240\n",
      "Epoch 95/100\n",
      "1500/1500 [==============================] - 0s 131us/step - loss: 0.0483 - acc: 0.9967 - val_loss: 2.7372 - val_acc: 0.4280\n",
      "Epoch 96/100\n",
      "1500/1500 [==============================] - 0s 143us/step - loss: 0.0446 - acc: 0.9973 - val_loss: 2.7424 - val_acc: 0.4180\n",
      "Epoch 97/100\n",
      "1500/1500 [==============================] - 0s 144us/step - loss: 0.0458 - acc: 0.9973 - val_loss: 2.7467 - val_acc: 0.4280\n",
      "Epoch 98/100\n",
      "1500/1500 [==============================] - 0s 164us/step - loss: 0.0458 - acc: 0.9960 - val_loss: 2.7626 - val_acc: 0.4200\n",
      "Epoch 99/100\n",
      "1500/1500 [==============================] - 0s 154us/step - loss: 0.0443 - acc: 0.9973 - val_loss: 2.7791 - val_acc: 0.4100\n",
      "Epoch 100/100\n",
      "1500/1500 [==============================] - 0s 144us/step - loss: 0.0418 - acc: 0.9973 - val_loss: 2.7482 - val_acc: 0.4220\n"
     ]
    },
    {
     "data": {
      "text/plain": [
       "<keras.callbacks.History at 0x11efe95f8>"
      ]
     },
     "execution_count": 7,
     "metadata": {},
     "output_type": "execute_result"
    }
   ],
   "source": [
    "model.fit(aud_X_train, aud_Y_train,\n",
    "         batch_size=BATCH_SIZE,\n",
    "         epochs=EPOCHS,\n",
    "         verbose=1,\n",
    "         validation_data=(aud_X_test, aud_Y_test))"
   ]
  },
  {
   "cell_type": "code",
   "execution_count": 8,
   "metadata": {},
   "outputs": [],
   "source": [
    "score = model.evaluate(aud_X_test, aud_Y_test, verbose=0)"
   ]
  },
  {
   "cell_type": "code",
   "execution_count": 9,
   "metadata": {},
   "outputs": [
    {
     "data": {
      "text/plain": [
       "[2.7481914501190188, 0.4220000002384186]"
      ]
     },
     "execution_count": 9,
     "metadata": {},
     "output_type": "execute_result"
    }
   ],
   "source": [
    "score"
   ]
  },
  {
   "cell_type": "code",
   "execution_count": null,
   "metadata": {},
   "outputs": [],
   "source": []
  },
  {
   "cell_type": "code",
   "execution_count": null,
   "metadata": {},
   "outputs": [],
   "source": []
  },
  {
   "cell_type": "code",
   "execution_count": null,
   "metadata": {},
   "outputs": [],
   "source": []
  },
  {
   "cell_type": "code",
   "execution_count": null,
   "metadata": {},
   "outputs": [],
   "source": []
  },
  {
   "cell_type": "code",
   "execution_count": null,
   "metadata": {},
   "outputs": [],
   "source": []
  },
  {
   "cell_type": "code",
   "execution_count": null,
   "metadata": {},
   "outputs": [],
   "source": []
  },
  {
   "cell_type": "code",
   "execution_count": null,
   "metadata": {},
   "outputs": [],
   "source": []
  },
  {
   "cell_type": "code",
   "execution_count": null,
   "metadata": {},
   "outputs": [],
   "source": []
  },
  {
   "cell_type": "code",
   "execution_count": null,
   "metadata": {},
   "outputs": [],
   "source": []
  },
  {
   "cell_type": "code",
   "execution_count": null,
   "metadata": {},
   "outputs": [],
   "source": []
  }
 ],
 "metadata": {
  "kernelspec": {
   "display_name": "Python 3",
   "language": "python",
   "name": "python3"
  },
  "language_info": {
   "codemirror_mode": {
    "name": "ipython",
    "version": 3
   },
   "file_extension": ".py",
   "mimetype": "text/x-python",
   "name": "python",
   "nbconvert_exporter": "python",
   "pygments_lexer": "ipython3",
   "version": "3.6.5"
  }
 },
 "nbformat": 4,
 "nbformat_minor": 2
}
