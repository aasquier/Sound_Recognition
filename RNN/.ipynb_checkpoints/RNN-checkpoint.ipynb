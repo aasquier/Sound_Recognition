{
 "cells": [
  {
   "cell_type": "code",
   "execution_count": 1,
   "metadata": {},
   "outputs": [
    {
     "name": "stderr",
     "output_type": "stream",
     "text": [
      "/usr/local/lib/python3.6/site-packages/h5py/__init__.py:36: FutureWarning: Conversion of the second argument of issubdtype from `float` to `np.floating` is deprecated. In future, it will be treated as `np.float64 == np.dtype(float).type`.\n",
      "  from ._conv import register_converters as _register_converters\n",
      "Using TensorFlow backend.\n"
     ]
    }
   ],
   "source": [
    "import sys\n",
    "sys.path.insert(0, '/Users/carsoncook/Dev/CS445/Group_Project_cs445')\n",
    "from extractFeatures import readDataFile\n",
    "\n",
    "import numpy as np\n",
    "import keras\n",
    "from keras.datasets import mnist\n",
    "# from keras.models import Sequential\n",
    "# from keras.layers import Dense, Activation, Dropout\n",
    "# from keras.layers import LSTM\n",
    "from keras.models import Sequential\n",
    "from keras.layers import Dense, Activation, Dropout\n",
    "from keras.layers.recurrent import SimpleRNN, LSTM, GRU \n",
    "from keras.optimizers import RMSprop"
   ]
  },
  {
   "cell_type": "code",
   "execution_count": 2,
   "metadata": {},
   "outputs": [],
   "source": [
    "#Data files\n",
    "AUDIO_DATA      = \"../data/audioData.csv\"\n",
    "IMAGE_DATA      = \"../data/imageData.csv\"\n",
    "AUDIO_DATA_NORM = \"../data/audioDataNormalized.csv\"\n",
    "IMAGE_DATA_NORM = \"../data/imageDataNormalized.csv\"\n",
    "\n",
    "#Constants\n",
    "FEATURES = 135\n",
    "# INPUT_SHAPE = (FEATURES, 1)\n",
    "ROWS = 3\n",
    "COLS = 45\n",
    "N_CLASSES = 50\n",
    "\n",
    "# Hyper Parameters\n",
    "N_UNITS = 128\n",
    "BATCH_SIZE = 128\n",
    "EPOCHS = 100\n",
    "DROP_OUT = (0.10, 0.20)"
   ]
  },
  {
   "cell_type": "code",
   "execution_count": 3,
   "metadata": {},
   "outputs": [],
   "source": [
    "aud_X_train, aud_y_train, aud_X_test, aud_y_test = readDataFile(AUDIO_DATA)"
   ]
  },
  {
   "cell_type": "code",
   "execution_count": 4,
   "metadata": {},
   "outputs": [
    {
     "data": {
      "text/plain": [
       "(1500, 3, 45)"
      ]
     },
     "execution_count": 4,
     "metadata": {},
     "output_type": "execute_result"
    }
   ],
   "source": [
    "# aud_X_train = aud_X_train.reshape(aud_X_train.shape[0], ROWS, COLS)\n",
    "aud_X_train = aud_X_train.reshape(-1, ROWS, COLS)\n",
    "aud_X_test = aud_X_test.reshape(-1, ROWS, COLS)\n",
    "aud_X_train.shape"
   ]
  },
  {
   "cell_type": "markdown",
   "metadata": {},
   "source": [
    "LSTM RNN"
   ]
  },
  {
   "cell_type": "markdown",
   "metadata": {},
   "source": [
    "One-Hot Encoding"
   ]
  },
  {
   "cell_type": "code",
   "execution_count": 5,
   "metadata": {},
   "outputs": [],
   "source": [
    "aud_Y_train = keras.utils.to_categorical(aud_y_train, N_CLASSES)\n",
    "aud_Y_test = keras.utils.to_categorical(aud_y_test, N_CLASSES)"
   ]
  },
  {
   "cell_type": "code",
   "execution_count": 6,
   "metadata": {},
   "outputs": [],
   "source": [
    "model = Sequential()\n",
    "\n",
    "# RNN LSTM\n",
    "model.add(LSTM(N_UNITS, input_shape=(ROWS, COLS)))\n",
    "# model.add(SimpleRNN(N_UNITS, input_shape=(ROWS, COLS)))\n",
    "model.add(Dropout(DROP_OUT[0]))\n",
    "model.add(Dense(N_CLASSES, activation='softmax'))\n",
    "# model.add(Dropout(DROP_OUT[1]))\n",
    "model.compile(loss='categorical_crossentropy',  optimizer='adam', metrics=['accuracy'])\n",
    "# model.compile(loss='categorical_crossentropy', optimizer='rmsprop', metrics=['accuracy'])\n",
    "# model.compile(loss=keras.losses.categorical_crossentropy, optimizer=keras.optimizers.Adadelta(), metrics=['accuracy'])"
   ]
  },
  {
   "cell_type": "code",
   "execution_count": 7,
   "metadata": {},
   "outputs": [
    {
     "name": "stdout",
     "output_type": "stream",
     "text": [
      "Train on 1500 samples, validate on 500 samples\n",
      "Epoch 1/100\n",
      "1500/1500 [==============================] - 1s 728us/step - loss: 3.8846 - acc: 0.0293 - val_loss: 3.8182 - val_acc: 0.0440\n",
      "Epoch 2/100\n",
      "1500/1500 [==============================] - 0s 112us/step - loss: 3.7101 - acc: 0.1327 - val_loss: 3.6852 - val_acc: 0.1160\n",
      "Epoch 3/100\n",
      "1500/1500 [==============================] - 0s 120us/step - loss: 3.5207 - acc: 0.1993 - val_loss: 3.5265 - val_acc: 0.1380\n",
      "Epoch 4/100\n",
      "1500/1500 [==============================] - 0s 111us/step - loss: 3.2799 - acc: 0.2460 - val_loss: 3.3220 - val_acc: 0.1620\n",
      "Epoch 5/100\n",
      "1500/1500 [==============================] - 0s 113us/step - loss: 2.9823 - acc: 0.3033 - val_loss: 3.1018 - val_acc: 0.2040\n",
      "Epoch 6/100\n",
      "1500/1500 [==============================] - 0s 116us/step - loss: 2.6524 - acc: 0.3727 - val_loss: 2.8890 - val_acc: 0.2600\n",
      "Epoch 7/100\n",
      "1500/1500 [==============================] - 0s 109us/step - loss: 2.3780 - acc: 0.4340 - val_loss: 2.7602 - val_acc: 0.2780\n",
      "Epoch 8/100\n",
      "1500/1500 [==============================] - 0s 130us/step - loss: 2.1482 - acc: 0.4760 - val_loss: 2.6398 - val_acc: 0.3100\n",
      "Epoch 9/100\n",
      "1500/1500 [==============================] - 0s 129us/step - loss: 1.9643 - acc: 0.5233 - val_loss: 2.5677 - val_acc: 0.3160\n",
      "Epoch 10/100\n",
      "1500/1500 [==============================] - 0s 141us/step - loss: 1.8127 - acc: 0.5553 - val_loss: 2.4852 - val_acc: 0.3440\n",
      "Epoch 11/100\n",
      "1500/1500 [==============================] - 0s 125us/step - loss: 1.6670 - acc: 0.5913 - val_loss: 2.4782 - val_acc: 0.3420\n",
      "Epoch 12/100\n",
      "1500/1500 [==============================] - 0s 115us/step - loss: 1.5540 - acc: 0.6260 - val_loss: 2.4251 - val_acc: 0.3580\n",
      "Epoch 13/100\n",
      "1500/1500 [==============================] - 0s 110us/step - loss: 1.4482 - acc: 0.6540 - val_loss: 2.3920 - val_acc: 0.3500\n",
      "Epoch 14/100\n",
      "1500/1500 [==============================] - 0s 124us/step - loss: 1.3551 - acc: 0.6787 - val_loss: 2.3691 - val_acc: 0.3560\n",
      "Epoch 15/100\n",
      "1500/1500 [==============================] - 0s 115us/step - loss: 1.2708 - acc: 0.7087 - val_loss: 2.3492 - val_acc: 0.3700\n",
      "Epoch 16/100\n",
      "1500/1500 [==============================] - 0s 120us/step - loss: 1.1859 - acc: 0.7327 - val_loss: 2.3359 - val_acc: 0.3700\n",
      "Epoch 17/100\n",
      "1500/1500 [==============================] - 0s 126us/step - loss: 1.1158 - acc: 0.7640 - val_loss: 2.3366 - val_acc: 0.3780\n",
      "Epoch 18/100\n",
      "1500/1500 [==============================] - 0s 116us/step - loss: 1.0478 - acc: 0.7780 - val_loss: 2.3203 - val_acc: 0.3860\n",
      "Epoch 19/100\n",
      "1500/1500 [==============================] - 0s 124us/step - loss: 0.9917 - acc: 0.7860 - val_loss: 2.3222 - val_acc: 0.3820\n",
      "Epoch 20/100\n",
      "1500/1500 [==============================] - 0s 132us/step - loss: 0.9305 - acc: 0.8133 - val_loss: 2.2864 - val_acc: 0.4000\n",
      "Epoch 21/100\n",
      "1500/1500 [==============================] - 0s 127us/step - loss: 0.8676 - acc: 0.8300 - val_loss: 2.2865 - val_acc: 0.4020\n",
      "Epoch 22/100\n",
      "1500/1500 [==============================] - 0s 135us/step - loss: 0.8136 - acc: 0.8400 - val_loss: 2.2788 - val_acc: 0.4120\n",
      "Epoch 23/100\n",
      "1500/1500 [==============================] - 0s 147us/step - loss: 0.7638 - acc: 0.8593 - val_loss: 2.2702 - val_acc: 0.4180\n",
      "Epoch 24/100\n",
      "1500/1500 [==============================] - 0s 137us/step - loss: 0.7141 - acc: 0.8647 - val_loss: 2.2621 - val_acc: 0.3980\n",
      "Epoch 25/100\n",
      "1500/1500 [==============================] - 0s 131us/step - loss: 0.6772 - acc: 0.8847 - val_loss: 2.2593 - val_acc: 0.4140\n",
      "Epoch 26/100\n",
      "1500/1500 [==============================] - 0s 133us/step - loss: 0.6372 - acc: 0.8907 - val_loss: 2.2879 - val_acc: 0.4020\n",
      "Epoch 27/100\n",
      "1500/1500 [==============================] - 0s 125us/step - loss: 0.6068 - acc: 0.8867 - val_loss: 2.2851 - val_acc: 0.4100\n",
      "Epoch 28/100\n",
      "1500/1500 [==============================] - 0s 119us/step - loss: 0.5733 - acc: 0.9013 - val_loss: 2.2854 - val_acc: 0.4060\n",
      "Epoch 29/100\n",
      "1500/1500 [==============================] - 0s 120us/step - loss: 0.5370 - acc: 0.9120 - val_loss: 2.2959 - val_acc: 0.4120\n",
      "Epoch 30/100\n",
      "1500/1500 [==============================] - 0s 127us/step - loss: 0.5047 - acc: 0.9200 - val_loss: 2.2768 - val_acc: 0.4100\n",
      "Epoch 31/100\n",
      "1500/1500 [==============================] - 0s 121us/step - loss: 0.4731 - acc: 0.9313 - val_loss: 2.2815 - val_acc: 0.4080\n",
      "Epoch 32/100\n",
      "1500/1500 [==============================] - 0s 131us/step - loss: 0.4502 - acc: 0.9373 - val_loss: 2.3028 - val_acc: 0.4160\n",
      "Epoch 33/100\n",
      "1500/1500 [==============================] - 0s 121us/step - loss: 0.4276 - acc: 0.9353 - val_loss: 2.2805 - val_acc: 0.4240\n",
      "Epoch 34/100\n",
      "1500/1500 [==============================] - 0s 123us/step - loss: 0.4039 - acc: 0.9460 - val_loss: 2.2853 - val_acc: 0.4220\n",
      "Epoch 35/100\n",
      "1500/1500 [==============================] - 0s 124us/step - loss: 0.3823 - acc: 0.9507 - val_loss: 2.3052 - val_acc: 0.4200\n",
      "Epoch 36/100\n",
      "1500/1500 [==============================] - 0s 128us/step - loss: 0.3600 - acc: 0.9527 - val_loss: 2.3192 - val_acc: 0.4220\n",
      "Epoch 37/100\n",
      "1500/1500 [==============================] - 0s 135us/step - loss: 0.3454 - acc: 0.9573 - val_loss: 2.3302 - val_acc: 0.4180\n",
      "Epoch 38/100\n",
      "1500/1500 [==============================] - 0s 127us/step - loss: 0.3329 - acc: 0.9613 - val_loss: 2.3249 - val_acc: 0.4280\n",
      "Epoch 39/100\n",
      "1500/1500 [==============================] - 0s 121us/step - loss: 0.3108 - acc: 0.9613 - val_loss: 2.3427 - val_acc: 0.4140\n",
      "Epoch 40/100\n",
      "1500/1500 [==============================] - 0s 121us/step - loss: 0.2979 - acc: 0.9667 - val_loss: 2.3244 - val_acc: 0.4300\n",
      "Epoch 41/100\n",
      "1500/1500 [==============================] - 0s 122us/step - loss: 0.2840 - acc: 0.9620 - val_loss: 2.3248 - val_acc: 0.4100\n",
      "Epoch 42/100\n",
      "1500/1500 [==============================] - 0s 128us/step - loss: 0.2682 - acc: 0.9673 - val_loss: 2.3663 - val_acc: 0.4160\n",
      "Epoch 43/100\n",
      "1500/1500 [==============================] - 0s 129us/step - loss: 0.2526 - acc: 0.9747 - val_loss: 2.3730 - val_acc: 0.4260\n",
      "Epoch 44/100\n",
      "1500/1500 [==============================] - 0s 123us/step - loss: 0.2386 - acc: 0.9740 - val_loss: 2.3555 - val_acc: 0.4260\n",
      "Epoch 45/100\n",
      "1500/1500 [==============================] - 0s 134us/step - loss: 0.2275 - acc: 0.9733 - val_loss: 2.3850 - val_acc: 0.4140\n",
      "Epoch 46/100\n",
      "1500/1500 [==============================] - 0s 125us/step - loss: 0.2143 - acc: 0.9787 - val_loss: 2.3666 - val_acc: 0.4260\n",
      "Epoch 47/100\n",
      "1500/1500 [==============================] - 0s 124us/step - loss: 0.2062 - acc: 0.9793 - val_loss: 2.3818 - val_acc: 0.4280\n",
      "Epoch 48/100\n",
      "1500/1500 [==============================] - 0s 126us/step - loss: 0.1972 - acc: 0.9773 - val_loss: 2.3586 - val_acc: 0.4260\n",
      "Epoch 49/100\n",
      "1500/1500 [==============================] - 0s 123us/step - loss: 0.1956 - acc: 0.9800 - val_loss: 2.3954 - val_acc: 0.4360\n",
      "Epoch 50/100\n",
      "1500/1500 [==============================] - 0s 125us/step - loss: 0.1853 - acc: 0.9813 - val_loss: 2.4271 - val_acc: 0.4220\n",
      "Epoch 51/100\n",
      "1500/1500 [==============================] - 0s 122us/step - loss: 0.1797 - acc: 0.9780 - val_loss: 2.3984 - val_acc: 0.4340\n",
      "Epoch 52/100\n",
      "1500/1500 [==============================] - 0s 129us/step - loss: 0.1615 - acc: 0.9860 - val_loss: 2.4088 - val_acc: 0.4180\n",
      "Epoch 53/100\n",
      "1500/1500 [==============================] - 0s 126us/step - loss: 0.1554 - acc: 0.9860 - val_loss: 2.4416 - val_acc: 0.4260\n",
      "Epoch 54/100\n",
      "1500/1500 [==============================] - 0s 124us/step - loss: 0.1520 - acc: 0.9847 - val_loss: 2.4163 - val_acc: 0.4240\n",
      "Epoch 55/100\n",
      "1500/1500 [==============================] - 0s 126us/step - loss: 0.1415 - acc: 0.9880 - val_loss: 2.4274 - val_acc: 0.4240\n",
      "Epoch 56/100\n",
      "1500/1500 [==============================] - 0s 132us/step - loss: 0.1358 - acc: 0.9893 - val_loss: 2.4463 - val_acc: 0.4140\n",
      "Epoch 57/100\n",
      "1500/1500 [==============================] - 0s 152us/step - loss: 0.1332 - acc: 0.9867 - val_loss: 2.4410 - val_acc: 0.4220\n",
      "Epoch 58/100\n",
      "1500/1500 [==============================] - 0s 130us/step - loss: 0.1311 - acc: 0.9860 - val_loss: 2.4655 - val_acc: 0.4240\n",
      "Epoch 59/100\n",
      "1500/1500 [==============================] - 0s 124us/step - loss: 0.1235 - acc: 0.9900 - val_loss: 2.4679 - val_acc: 0.4260\n",
      "Epoch 60/100\n",
      "1500/1500 [==============================] - 0s 127us/step - loss: 0.1205 - acc: 0.9867 - val_loss: 2.4681 - val_acc: 0.4240\n",
      "Epoch 61/100\n",
      "1500/1500 [==============================] - 0s 128us/step - loss: 0.1124 - acc: 0.9913 - val_loss: 2.4818 - val_acc: 0.4160\n",
      "Epoch 62/100\n",
      "1500/1500 [==============================] - 0s 133us/step - loss: 0.1087 - acc: 0.9927 - val_loss: 2.4772 - val_acc: 0.4220\n",
      "Epoch 63/100\n",
      "1500/1500 [==============================] - 0s 135us/step - loss: 0.1060 - acc: 0.9907 - val_loss: 2.5069 - val_acc: 0.4280\n",
      "Epoch 64/100\n",
      "1500/1500 [==============================] - 0s 128us/step - loss: 0.1041 - acc: 0.9900 - val_loss: 2.4934 - val_acc: 0.4240\n",
      "Epoch 65/100\n",
      "1500/1500 [==============================] - 0s 126us/step - loss: 0.1036 - acc: 0.9880 - val_loss: 2.5065 - val_acc: 0.4260\n",
      "Epoch 66/100\n",
      "1500/1500 [==============================] - 0s 128us/step - loss: 0.0972 - acc: 0.9940 - val_loss: 2.5106 - val_acc: 0.4200\n",
      "Epoch 67/100\n",
      "1500/1500 [==============================] - 0s 125us/step - loss: 0.0894 - acc: 0.9920 - val_loss: 2.4993 - val_acc: 0.4340\n",
      "Epoch 68/100\n",
      "1500/1500 [==============================] - 0s 136us/step - loss: 0.0842 - acc: 0.9940 - val_loss: 2.5186 - val_acc: 0.4360\n",
      "Epoch 69/100\n",
      "1500/1500 [==============================] - 0s 127us/step - loss: 0.0792 - acc: 0.9953 - val_loss: 2.5212 - val_acc: 0.4340\n",
      "Epoch 70/100\n",
      "1500/1500 [==============================] - 0s 127us/step - loss: 0.0799 - acc: 0.9933 - val_loss: 2.5225 - val_acc: 0.4380\n",
      "Epoch 71/100\n",
      "1500/1500 [==============================] - 0s 127us/step - loss: 0.0783 - acc: 0.9913 - val_loss: 2.5232 - val_acc: 0.4380\n",
      "Epoch 72/100\n",
      "1500/1500 [==============================] - 0s 127us/step - loss: 0.0747 - acc: 0.9933 - val_loss: 2.5449 - val_acc: 0.4280\n",
      "Epoch 73/100\n",
      "1500/1500 [==============================] - 0s 132us/step - loss: 0.0715 - acc: 0.9940 - val_loss: 2.5499 - val_acc: 0.4300\n",
      "Epoch 74/100\n",
      "1500/1500 [==============================] - 0s 132us/step - loss: 0.0697 - acc: 0.9947 - val_loss: 2.5835 - val_acc: 0.4220\n",
      "Epoch 75/100\n",
      "1500/1500 [==============================] - 0s 127us/step - loss: 0.0695 - acc: 0.9933 - val_loss: 2.5556 - val_acc: 0.4340\n",
      "Epoch 76/100\n",
      "1500/1500 [==============================] - 0s 141us/step - loss: 0.0669 - acc: 0.9933 - val_loss: 2.5700 - val_acc: 0.4200\n",
      "Epoch 77/100\n",
      "1500/1500 [==============================] - 0s 128us/step - loss: 0.0687 - acc: 0.9900 - val_loss: 2.5772 - val_acc: 0.4280\n",
      "Epoch 78/100\n",
      "1500/1500 [==============================] - 0s 130us/step - loss: 0.0663 - acc: 0.9913 - val_loss: 2.6078 - val_acc: 0.4320\n",
      "Epoch 79/100\n",
      "1500/1500 [==============================] - 0s 132us/step - loss: 0.0714 - acc: 0.9907 - val_loss: 2.6081 - val_acc: 0.4340\n",
      "Epoch 80/100\n",
      "1500/1500 [==============================] - 0s 127us/step - loss: 0.0566 - acc: 0.9960 - val_loss: 2.5882 - val_acc: 0.4400\n",
      "Epoch 81/100\n",
      "1500/1500 [==============================] - 0s 130us/step - loss: 0.0509 - acc: 0.9973 - val_loss: 2.5936 - val_acc: 0.4260\n",
      "Epoch 82/100\n",
      "1500/1500 [==============================] - 0s 129us/step - loss: 0.0532 - acc: 0.9933 - val_loss: 2.6048 - val_acc: 0.4300\n",
      "Epoch 83/100\n",
      "1500/1500 [==============================] - 0s 140us/step - loss: 0.0554 - acc: 0.9940 - val_loss: 2.6174 - val_acc: 0.4340\n",
      "Epoch 84/100\n",
      "1500/1500 [==============================] - 0s 141us/step - loss: 0.0523 - acc: 0.9940 - val_loss: 2.6151 - val_acc: 0.4280\n",
      "Epoch 85/100\n",
      "1500/1500 [==============================] - 0s 134us/step - loss: 0.0537 - acc: 0.9933 - val_loss: 2.6286 - val_acc: 0.4280\n",
      "Epoch 86/100\n",
      "1500/1500 [==============================] - 0s 138us/step - loss: 0.0478 - acc: 0.9973 - val_loss: 2.6334 - val_acc: 0.4140\n",
      "Epoch 87/100\n",
      "1500/1500 [==============================] - 0s 129us/step - loss: 0.0455 - acc: 0.9973 - val_loss: 2.6195 - val_acc: 0.4280\n",
      "Epoch 88/100\n",
      "1500/1500 [==============================] - 0s 143us/step - loss: 0.0442 - acc: 0.9973 - val_loss: 2.6351 - val_acc: 0.4320\n",
      "Epoch 89/100\n",
      "1500/1500 [==============================] - 0s 130us/step - loss: 0.0432 - acc: 0.9973 - val_loss: 2.6173 - val_acc: 0.4320\n",
      "Epoch 90/100\n",
      "1500/1500 [==============================] - 0s 124us/step - loss: 0.0450 - acc: 0.9947 - val_loss: 2.6652 - val_acc: 0.4120\n",
      "Epoch 91/100\n",
      "1500/1500 [==============================] - 0s 137us/step - loss: 0.0394 - acc: 0.9987 - val_loss: 2.6779 - val_acc: 0.4140\n",
      "Epoch 92/100\n",
      "1500/1500 [==============================] - 0s 163us/step - loss: 0.0431 - acc: 0.9960 - val_loss: 2.6824 - val_acc: 0.4220\n",
      "Epoch 93/100\n",
      "1500/1500 [==============================] - 0s 138us/step - loss: 0.0424 - acc: 0.9973 - val_loss: 2.6882 - val_acc: 0.4100\n",
      "Epoch 94/100\n",
      "1500/1500 [==============================] - 0s 129us/step - loss: 0.0403 - acc: 0.9980 - val_loss: 2.6790 - val_acc: 0.4220\n",
      "Epoch 95/100\n",
      "1500/1500 [==============================] - 0s 139us/step - loss: 0.0359 - acc: 0.9973 - val_loss: 2.6771 - val_acc: 0.4140\n",
      "Epoch 96/100\n",
      "1500/1500 [==============================] - 0s 129us/step - loss: 0.0377 - acc: 0.9960 - val_loss: 2.6800 - val_acc: 0.4180\n",
      "Epoch 97/100\n",
      "1500/1500 [==============================] - 0s 139us/step - loss: 0.0379 - acc: 0.9973 - val_loss: 2.6972 - val_acc: 0.4200\n",
      "Epoch 98/100\n",
      "1500/1500 [==============================] - 0s 137us/step - loss: 0.0363 - acc: 0.9973 - val_loss: 2.7148 - val_acc: 0.4040\n",
      "Epoch 99/100\n",
      "1500/1500 [==============================] - 0s 133us/step - loss: 0.0327 - acc: 0.9980 - val_loss: 2.6930 - val_acc: 0.4320\n",
      "Epoch 100/100\n",
      "1500/1500 [==============================] - 0s 139us/step - loss: 0.0310 - acc: 0.9993 - val_loss: 2.6938 - val_acc: 0.4200\n"
     ]
    },
    {
     "data": {
      "text/plain": [
       "<keras.callbacks.History at 0x11960aa58>"
      ]
     },
     "execution_count": 7,
     "metadata": {},
     "output_type": "execute_result"
    }
   ],
   "source": [
    "model.fit(aud_X_train, aud_Y_train,\n",
    "         batch_size=BATCH_SIZE,\n",
    "         epochs=EPOCHS,\n",
    "         verbose=1,\n",
    "         validation_data=(aud_X_test, aud_Y_test))"
   ]
  },
  {
   "cell_type": "code",
   "execution_count": 8,
   "metadata": {},
   "outputs": [],
   "source": [
    "score = model.evaluate(aud_X_test, aud_Y_test, verbose=0)"
   ]
  },
  {
   "cell_type": "code",
   "execution_count": 9,
   "metadata": {},
   "outputs": [
    {
     "data": {
      "text/plain": [
       "[2.6938495502471924, 0.4200000002384186]"
      ]
     },
     "execution_count": 9,
     "metadata": {},
     "output_type": "execute_result"
    }
   ],
   "source": [
    "score"
   ]
  },
  {
   "cell_type": "code",
   "execution_count": null,
   "metadata": {},
   "outputs": [],
   "source": []
  },
  {
   "cell_type": "code",
   "execution_count": null,
   "metadata": {},
   "outputs": [],
   "source": []
  },
  {
   "cell_type": "code",
   "execution_count": null,
   "metadata": {},
   "outputs": [],
   "source": []
  },
  {
   "cell_type": "code",
   "execution_count": null,
   "metadata": {},
   "outputs": [],
   "source": []
  },
  {
   "cell_type": "code",
   "execution_count": null,
   "metadata": {},
   "outputs": [],
   "source": []
  },
  {
   "cell_type": "code",
   "execution_count": null,
   "metadata": {},
   "outputs": [],
   "source": []
  },
  {
   "cell_type": "code",
   "execution_count": null,
   "metadata": {},
   "outputs": [],
   "source": []
  },
  {
   "cell_type": "code",
   "execution_count": null,
   "metadata": {},
   "outputs": [],
   "source": []
  },
  {
   "cell_type": "code",
   "execution_count": null,
   "metadata": {},
   "outputs": [],
   "source": []
  },
  {
   "cell_type": "code",
   "execution_count": null,
   "metadata": {},
   "outputs": [],
   "source": []
  }
 ],
 "metadata": {
  "kernelspec": {
   "display_name": "Python 3",
   "language": "python",
   "name": "python3"
  },
  "language_info": {
   "codemirror_mode": {
    "name": "ipython",
    "version": 3
   },
   "file_extension": ".py",
   "mimetype": "text/x-python",
   "name": "python",
   "nbconvert_exporter": "python",
   "pygments_lexer": "ipython3",
   "version": "3.6.5"
  }
 },
 "nbformat": 4,
 "nbformat_minor": 2
}
