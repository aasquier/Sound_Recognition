{
 "cells": [
  {
   "cell_type": "code",
   "execution_count": 1,
   "metadata": {},
   "outputs": [],
   "source": [
    "from sklearn.metrics import confusion_matrix\n",
    "from sklearn.metrics import accuracy_score\n",
    "import seaborn as sb\n",
    "import matplotlib.pyplot as plt\n",
    "import pandas as pd\n",
    "import numpy as np"
   ]
  },
  {
   "cell_type": "code",
   "execution_count": 2,
   "metadata": {},
   "outputs": [],
   "source": [
    "aud_f0 = pd.read_csv('accuracies/aud_fold_0_accs.csv')\n",
    "im_f0 = pd.read_csv('accuracies/im_fold_0_accs.csv')"
   ]
  },
  {
   "cell_type": "code",
   "execution_count": 3,
   "metadata": {},
   "outputs": [],
   "source": [
    "def make_heatmap(cm, file_name):\n",
    "    plt.figure(figsize=(10,7))\n",
    "    sb.heatmap(cm, annot=True, fmt='g')\n",
    "#     plt.show()\n",
    "#     plt.savefig('images/{}'.format(file_name))\n",
    "    plt.savefig('images_paper/{}'.format(file_name))\n",
    "    plt.clf()"
   ]
  },
  {
   "cell_type": "code",
   "execution_count": 4,
   "metadata": {},
   "outputs": [
    {
     "name": "stderr",
     "output_type": "stream",
     "text": [
      "/usr/local/lib/python3.6/site-packages/matplotlib/pyplot.py:524: RuntimeWarning: More than 20 figures have been opened. Figures created through the pyplot interface (`matplotlib.pyplot.figure`) are retained until explicitly closed and may consume too much memory. (To control this warning, see the rcParam `figure.max_open_warning`).\n",
      "  max_open_warning, RuntimeWarning)\n"
     ]
    }
   ],
   "source": [
    "for i in range(10):\n",
    "    aud = pd.read_csv('accuracies/aud_fold_{}_accs.csv'.format(i))\n",
    "    im = pd.read_csv('accuracies/im_fold_{}_accs.csv'.format(i))\n",
    "    comb = pd.read_csv('accuracies/comb_fold_{}_accs.csv'.format(i))\n",
    "    aud_cm = confusion_matrix(aud['actual'], aud['predicted'])\n",
    "    im_cm = confusion_matrix(im['actual'], im['predicted'])\n",
    "    comb_cm = confusion_matrix(comb['actual'], comb['predicted'])\n",
    "    make_heatmap(aud_cm, 'aud_fold_{}_heatmap.png'.format(i))\n",
    "    make_heatmap(im_cm, 'im_fold_{}_heatmap.png'.format(i))\n",
    "    make_heatmap(comb_cm, 'comb_fold_{}_heatmap.png'.format(i))"
   ]
  },
  {
   "cell_type": "code",
   "execution_count": null,
   "metadata": {},
   "outputs": [],
   "source": []
  },
  {
   "cell_type": "code",
   "execution_count": null,
   "metadata": {},
   "outputs": [],
   "source": []
  },
  {
   "cell_type": "code",
   "execution_count": null,
   "metadata": {},
   "outputs": [],
   "source": []
  },
  {
   "cell_type": "code",
   "execution_count": null,
   "metadata": {},
   "outputs": [],
   "source": []
  }
 ],
 "metadata": {
  "kernelspec": {
   "display_name": "Python 3",
   "language": "python",
   "name": "python3"
  },
  "language_info": {
   "codemirror_mode": {
    "name": "ipython",
    "version": 3
   },
   "file_extension": ".py",
   "mimetype": "text/x-python",
   "name": "python",
   "nbconvert_exporter": "python",
   "pygments_lexer": "ipython3",
   "version": "3.6.5"
  }
 },
 "nbformat": 4,
 "nbformat_minor": 2
}
